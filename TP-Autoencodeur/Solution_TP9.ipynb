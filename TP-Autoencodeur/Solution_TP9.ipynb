{
 "cells": [
  {
   "cell_type": "markdown",
   "id": "53567b58-e3df-48ad-8d7c-ba18e18a0628",
   "metadata": {},
   "source": [
    "# TP9 : Systèmes de Recommandation avec Autoencodeur  "
   ]
  },
  {
   "cell_type": "markdown",
   "id": "c7572ffd-7a60-4ed5-8e71-f1fffbe9321b",
   "metadata": {},
   "source": [
    "**Brahim ALAOUI**\n",
    "\n",
    "**Master : BIBDA**\n"
   ]
  },
  {
   "cell_type": "markdown",
   "id": "6d8bea41-807c-452a-b0e7-0efb5c29559e",
   "metadata": {},
   "source": [
    "Ce TP vous guide à travers l'ensemble du processus de construction d'un système de recommandation en utilisant un autoencodeur, depuis la préparation des données jusqu'à la génération des recommandations."
   ]
  },
  {
   "cell_type": "markdown",
   "id": "ea0e27a3-0924-41c6-8b70-208c4862b565",
   "metadata": {},
   "source": [
    "Appliquer le modèle Autoencoder sur la dataset Jester.\n",
    "* Elle contient des évaluations de **blagues** par des utilisateurs.\n"
   ]
  },
  {
   "cell_type": "markdown",
   "id": "c5a0cced-227c-4efd-92d0-7ebadbe599ab",
   "metadata": {},
   "source": [
    "## PARTIES 1"
   ]
  },
  {
   "cell_type": "markdown",
   "id": "77c9a905-e9cd-492d-a544-ce36db2a694d",
   "metadata": {},
   "source": [
    "**1.\tImportation des Bibliothèques / Chargement et Préparation des Données:**"
   ]
  },
  {
   "cell_type": "markdown",
   "id": "fed95109-291a-4077-bbb1-0614a6baced6",
   "metadata": {},
   "source": [
    "* Importer les bibliothèques nécessaires. \n",
    "* Télécharger le dataset Jester.\n",
    "* Charger les données avec pandas et afficher quelques lignes pour s'assurer que les données sont correctement chargées.\n"
   ]
  },
  {
   "cell_type": "code",
   "execution_count": 67,
   "id": "16100661-2d54-44d0-b187-ec003d979a43",
   "metadata": {},
   "outputs": [],
   "source": [
    "import tensorflow as tf\n",
    "import pandas as pd\n",
    "import numpy as np\n",
    "import matplotlib.pyplot as plt\n",
    "from sklearn.model_selection import train_test_split\n",
    "from sklearn.preprocessing import StandardScaler"
   ]
  },
  {
   "cell_type": "code",
   "execution_count": 68,
   "id": "05740fc2-762a-4c58-ad65-f167cc04931f",
   "metadata": {},
   "outputs": [
    {
     "name": "stdout",
     "output_type": "stream",
     "text": [
      "   userId  jokeId  rating\n",
      "0       1       5   0.219\n",
      "1       1       7  -9.281\n",
      "2       1       8  -9.281\n",
      "3       1      13  -6.781\n",
      "4       1      15   0.875\n",
      "//////////////\n",
      "   jokeId                                           jokeText\n",
      "0       1  A man visits the doctor. The doctor says \"I ha...\n",
      "1       2  This couple had an excellent relationship goin...\n",
      "2       3  Q. What's 200 feet long and has 4 teeth? \\n\\nA...\n",
      "3       4  Q. What's the difference between a man and a t...\n",
      "4       5  Q.\\tWhat's O. J. Simpson's Internet address? \\...\n"
     ]
    }
   ],
   "source": [
    "# Charger les données\n",
    "df_ratings = pd.read_csv('jester/jester_ratings.csv')\n",
    "df_istem = pd.read_csv('jester/jester_items.csv')\n",
    "# Afficher les premières lignes des données\n",
    "print(df_ratings.head())\n",
    "print(\"//////////////\")\n",
    "print(df_items.head())"
   ]
  },
  {
   "cell_type": "markdown",
   "id": "71c44ea1-d44f-458f-b5e8-2cc13f686a94",
   "metadata": {},
   "source": [
    "## PARTIES 2"
   ]
  },
  {
   "cell_type": "markdown",
   "id": "3c27feac-34ad-4ca9-9a47-425b564a663c",
   "metadata": {},
   "source": [
    "**2.\tPrétraitement des Données :**"
   ]
  },
  {
   "cell_type": "markdown",
   "id": "0b826e1f-bce9-4f21-8acd-421225fc78ce",
   "metadata": {},
   "source": [
    "* Créer une matrice utilisateur-joke.\n",
    "* Diviser les données en ensembles d'entraînement et de test.\n",
    "* Convertir les ensembles en matrices."
   ]
  },
  {
   "cell_type": "code",
   "execution_count": 72,
   "id": "79982fa5-1726-4114-aa07-9ed4536dae50",
   "metadata": {},
   "outputs": [],
   "source": [
    "# Chaque ligne représente un utilisateur et chaque colonne représente joke\n",
    "# Les valeurs sont les notes que les utilisateurs ont attribuées aux jokes\n",
    "user_joke_matrix = df_ratings.pivot(index='userId', columns='jokeId', values='rating').fillna(0)\n",
    "\n",
    "\n",
    "# Diviser les données en ensembles d'entraînement et de test\n",
    "# En utilisant 80% des données pour l'entraînement et 20% pour le test\n",
    "train_data, test_data = train_test_split(user_joke_matrix, test_size=0.2, random_state=42)\n",
    "\n",
    "\n",
    "# Convertir les ensembles d'entraînement et de test en matrices\n",
    "train_data_matrix = train_data.values\n",
    "test_data_matrix = test_data.values"
   ]
  },
  {
   "cell_type": "markdown",
   "id": "d847d623-ef1b-4b46-bbe2-2f1eacfc089e",
   "metadata": {},
   "source": [
    "## PARTIES 3"
   ]
  },
  {
   "cell_type": "markdown",
   "id": "7ac5dd0e-7763-4c09-b40b-17ba46f43322",
   "metadata": {},
   "source": [
    "**3.\tConstruction du Modèle Autoencodeur :**"
   ]
  },
  {
   "cell_type": "markdown",
   "id": "942fed99-b641-4512-a263-7082e953553a",
   "metadata": {},
   "source": [
    "* Définir l'architecture de l'autoencodeur.\n",
    "* Spécifier les couches d'entrée, encodées et décodées. \n",
    "* Compiler le modèle en utilisant l'optimiseur Adam et une fonction de perte appropriée.\n"
   ]
  },
  {
   "cell_type": "code",
   "execution_count": 76,
   "id": "be16007e-6793-4725-bcdd-878631be1ada",
   "metadata": {},
   "outputs": [],
   "source": [
    "# Définition de l'Autoencodeur\n",
    "# input_dim est le nombre de jokes (le nombre de colonnes dans user_joke_matrix)\n",
    "# encoding_dim est la dimension de la couche cachée, choisie comme 64 pour réduire la dimensionnalité tout en capturant les informations essentielles\n",
    "input_dim = train_data_matrix.shape[1]\n",
    "encoding_dim = 64  # Nombre de neurones dans la couche encodée\n",
    "\n",
    "# Couche d'entrée\n",
    "input_layer = tf.keras.layers.Input(shape=(input_dim,))\n",
    "\n",
    "# Couche encodée avec activation ReLU\n",
    "# ReLU (Rectified Linear Unit) est utilisée ici car elle aide à résoudre le problème de la vanishing gradient et accélère la convergence\n",
    "encoded = tf.keras.layers.Dense(encoding_dim, activation='relu')(input_layer)\n",
    "\n",
    "# Couche décodée avec activation Sigmoid\n",
    "# Sigmoid est utilisée pour ramener les valeurs dans l'intervalle [0, 1], ce qui est approprié car les notes des jokes sont normalisées\n",
    "decoded = tf.keras.layers.Dense(input_dim, activation='sigmoid')(encoded)\n",
    "\n",
    "# Modèle autoencodeur\n",
    "autoencoder = tf.keras.Model(inputs=input_layer, outputs=decoded)"
   ]
  },
  {
   "cell_type": "code",
   "execution_count": 77,
   "id": "4c5733fe-b897-4e2e-8405-a7fd0072567e",
   "metadata": {},
   "outputs": [],
   "source": [
    "# Compilation du modèle\n",
    "# Adam est un optimiseur adaptatif efficace qui fonctionne bien avec les grands datasets et les réseaux de neurones\n",
    "# La fonction de perte est la Mean Squared Error (MSE) car nous cherchons à minimiser la différence quadratique entre les notes prédites et réelles\n",
    "autoencoder.compile(optimizer='adam', loss='mean_squared_error')"
   ]
  },
  {
   "cell_type": "markdown",
   "id": "031fbb2e-18d5-4264-92dc-358c76105eed",
   "metadata": {},
   "source": [
    "## PARTIES 4"
   ]
  },
  {
   "cell_type": "markdown",
   "id": "5885f58d-da30-4087-8418-cb2af71aa4db",
   "metadata": {},
   "source": [
    "**4.\tEntraînement du Modèle:**"
   ]
  },
  {
   "cell_type": "markdown",
   "id": "f233d053-5253-4f58-99a3-e0291d255729",
   "metadata": {},
   "source": [
    "* Entraîner l'autoencodeur sur les données d'entraînement.\n",
    "1.\tEn validant le modèle sur les données de test. \n",
    "2.\tUtiliser un nombre d'époques = 50 et une taille de lot appropriés = 256.\n"
   ]
  },
  {
   "cell_type": "code",
   "execution_count": 81,
   "id": "ea189549-5c3f-4ee8-9979-97f858e10362",
   "metadata": {},
   "outputs": [
    {
     "name": "stdout",
     "output_type": "stream",
     "text": [
      "Epoch 1/50\n",
      "\u001b[1m185/185\u001b[0m \u001b[32m━━━━━━━━━━━━━━━━━━━━\u001b[0m\u001b[37m\u001b[0m \u001b[1m3s\u001b[0m 8ms/step - loss: 6.1007 - val_loss: 5.6402\n",
      "Epoch 2/50\n",
      "\u001b[1m185/185\u001b[0m \u001b[32m━━━━━━━━━━━━━━━━━━━━\u001b[0m\u001b[37m\u001b[0m \u001b[1m2s\u001b[0m 10ms/step - loss: 5.6944 - val_loss: 5.5499\n",
      "Epoch 3/50\n",
      "\u001b[1m185/185\u001b[0m \u001b[32m━━━━━━━━━━━━━━━━━━━━\u001b[0m\u001b[37m\u001b[0m \u001b[1m2s\u001b[0m 9ms/step - loss: 5.5236 - val_loss: 5.5102\n",
      "Epoch 4/50\n",
      "\u001b[1m185/185\u001b[0m \u001b[32m━━━━━━━━━━━━━━━━━━━━\u001b[0m\u001b[37m\u001b[0m \u001b[1m1s\u001b[0m 7ms/step - loss: 5.5461 - val_loss: 5.4879\n",
      "Epoch 5/50\n",
      "\u001b[1m185/185\u001b[0m \u001b[32m━━━━━━━━━━━━━━━━━━━━\u001b[0m\u001b[37m\u001b[0m \u001b[1m2s\u001b[0m 8ms/step - loss: 5.5369 - val_loss: 5.4732\n",
      "Epoch 6/50\n",
      "\u001b[1m185/185\u001b[0m \u001b[32m━━━━━━━━━━━━━━━━━━━━\u001b[0m\u001b[37m\u001b[0m \u001b[1m2s\u001b[0m 8ms/step - loss: 5.4724 - val_loss: 5.4635\n",
      "Epoch 7/50\n",
      "\u001b[1m185/185\u001b[0m \u001b[32m━━━━━━━━━━━━━━━━━━━━\u001b[0m\u001b[37m\u001b[0m \u001b[1m2s\u001b[0m 7ms/step - loss: 5.4527 - val_loss: 5.4563\n",
      "Epoch 8/50\n",
      "\u001b[1m185/185\u001b[0m \u001b[32m━━━━━━━━━━━━━━━━━━━━\u001b[0m\u001b[37m\u001b[0m \u001b[1m1s\u001b[0m 8ms/step - loss: 5.4558 - val_loss: 5.4517\n",
      "Epoch 9/50\n",
      "\u001b[1m185/185\u001b[0m \u001b[32m━━━━━━━━━━━━━━━━━━━━\u001b[0m\u001b[37m\u001b[0m \u001b[1m1s\u001b[0m 6ms/step - loss: 5.4174 - val_loss: 5.4479\n",
      "Epoch 10/50\n",
      "\u001b[1m185/185\u001b[0m \u001b[32m━━━━━━━━━━━━━━━━━━━━\u001b[0m\u001b[37m\u001b[0m \u001b[1m1s\u001b[0m 5ms/step - loss: 5.4634 - val_loss: 5.4450\n",
      "Epoch 11/50\n",
      "\u001b[1m185/185\u001b[0m \u001b[32m━━━━━━━━━━━━━━━━━━━━\u001b[0m\u001b[37m\u001b[0m \u001b[1m2s\u001b[0m 8ms/step - loss: 5.5242 - val_loss: 5.4422\n",
      "Epoch 12/50\n",
      "\u001b[1m185/185\u001b[0m \u001b[32m━━━━━━━━━━━━━━━━━━━━\u001b[0m\u001b[37m\u001b[0m \u001b[1m1s\u001b[0m 5ms/step - loss: 5.4477 - val_loss: 5.4387\n",
      "Epoch 13/50\n",
      "\u001b[1m185/185\u001b[0m \u001b[32m━━━━━━━━━━━━━━━━━━━━\u001b[0m\u001b[37m\u001b[0m \u001b[1m1s\u001b[0m 5ms/step - loss: 5.4657 - val_loss: 5.4370\n",
      "Epoch 14/50\n",
      "\u001b[1m185/185\u001b[0m \u001b[32m━━━━━━━━━━━━━━━━━━━━\u001b[0m\u001b[37m\u001b[0m \u001b[1m1s\u001b[0m 8ms/step - loss: 5.5022 - val_loss: 5.4341\n",
      "Epoch 15/50\n",
      "\u001b[1m185/185\u001b[0m \u001b[32m━━━━━━━━━━━━━━━━━━━━\u001b[0m\u001b[37m\u001b[0m \u001b[1m2s\u001b[0m 5ms/step - loss: 5.4560 - val_loss: 5.4322\n",
      "Epoch 16/50\n",
      "\u001b[1m185/185\u001b[0m \u001b[32m━━━━━━━━━━━━━━━━━━━━\u001b[0m\u001b[37m\u001b[0m \u001b[1m1s\u001b[0m 7ms/step - loss: 5.4493 - val_loss: 5.4301\n",
      "Epoch 17/50\n",
      "\u001b[1m185/185\u001b[0m \u001b[32m━━━━━━━━━━━━━━━━━━━━\u001b[0m\u001b[37m\u001b[0m \u001b[1m1s\u001b[0m 7ms/step - loss: 5.4839 - val_loss: 5.4290\n",
      "Epoch 18/50\n",
      "\u001b[1m185/185\u001b[0m \u001b[32m━━━━━━━━━━━━━━━━━━━━\u001b[0m\u001b[37m\u001b[0m \u001b[1m1s\u001b[0m 5ms/step - loss: 5.5019 - val_loss: 5.4266\n",
      "Epoch 19/50\n",
      "\u001b[1m185/185\u001b[0m \u001b[32m━━━━━━━━━━━━━━━━━━━━\u001b[0m\u001b[37m\u001b[0m \u001b[1m2s\u001b[0m 8ms/step - loss: 5.4774 - val_loss: 5.4253\n",
      "Epoch 20/50\n",
      "\u001b[1m185/185\u001b[0m \u001b[32m━━━━━━━━━━━━━━━━━━━━\u001b[0m\u001b[37m\u001b[0m \u001b[1m1s\u001b[0m 6ms/step - loss: 5.4606 - val_loss: 5.4244\n",
      "Epoch 21/50\n",
      "\u001b[1m185/185\u001b[0m \u001b[32m━━━━━━━━━━━━━━━━━━━━\u001b[0m\u001b[37m\u001b[0m \u001b[1m1s\u001b[0m 5ms/step - loss: 5.4654 - val_loss: 5.4187\n",
      "Epoch 22/50\n",
      "\u001b[1m185/185\u001b[0m \u001b[32m━━━━━━━━━━━━━━━━━━━━\u001b[0m\u001b[37m\u001b[0m \u001b[1m2s\u001b[0m 9ms/step - loss: 5.5026 - val_loss: 5.4176\n",
      "Epoch 23/50\n",
      "\u001b[1m185/185\u001b[0m \u001b[32m━━━━━━━━━━━━━━━━━━━━\u001b[0m\u001b[37m\u001b[0m \u001b[1m1s\u001b[0m 6ms/step - loss: 5.4222 - val_loss: 5.4142\n",
      "Epoch 24/50\n",
      "\u001b[1m185/185\u001b[0m \u001b[32m━━━━━━━━━━━━━━━━━━━━\u001b[0m\u001b[37m\u001b[0m \u001b[1m1s\u001b[0m 8ms/step - loss: 5.4038 - val_loss: 5.4133\n",
      "Epoch 25/50\n",
      "\u001b[1m185/185\u001b[0m \u001b[32m━━━━━━━━━━━━━━━━━━━━\u001b[0m\u001b[37m\u001b[0m \u001b[1m1s\u001b[0m 6ms/step - loss: 5.3875 - val_loss: 5.4104\n",
      "Epoch 26/50\n",
      "\u001b[1m185/185\u001b[0m \u001b[32m━━━━━━━━━━━━━━━━━━━━\u001b[0m\u001b[37m\u001b[0m \u001b[1m1s\u001b[0m 6ms/step - loss: 5.4849 - val_loss: 5.4102\n",
      "Epoch 27/50\n",
      "\u001b[1m185/185\u001b[0m \u001b[32m━━━━━━━━━━━━━━━━━━━━\u001b[0m\u001b[37m\u001b[0m \u001b[1m2s\u001b[0m 7ms/step - loss: 5.4518 - val_loss: 5.4090\n",
      "Epoch 28/50\n",
      "\u001b[1m185/185\u001b[0m \u001b[32m━━━━━━━━━━━━━━━━━━━━\u001b[0m\u001b[37m\u001b[0m \u001b[1m1s\u001b[0m 6ms/step - loss: 5.4527 - val_loss: 5.4084\n",
      "Epoch 29/50\n",
      "\u001b[1m185/185\u001b[0m \u001b[32m━━━━━━━━━━━━━━━━━━━━\u001b[0m\u001b[37m\u001b[0m \u001b[1m2s\u001b[0m 8ms/step - loss: 5.5014 - val_loss: 5.4086\n",
      "Epoch 30/50\n",
      "\u001b[1m185/185\u001b[0m \u001b[32m━━━━━━━━━━━━━━━━━━━━\u001b[0m\u001b[37m\u001b[0m \u001b[1m2s\u001b[0m 9ms/step - loss: 5.4660 - val_loss: 5.4081\n",
      "Epoch 31/50\n",
      "\u001b[1m185/185\u001b[0m \u001b[32m━━━━━━━━━━━━━━━━━━━━\u001b[0m\u001b[37m\u001b[0m \u001b[1m2s\u001b[0m 8ms/step - loss: 5.4374 - val_loss: 5.4078\n",
      "Epoch 32/50\n",
      "\u001b[1m185/185\u001b[0m \u001b[32m━━━━━━━━━━━━━━━━━━━━\u001b[0m\u001b[37m\u001b[0m \u001b[1m2s\u001b[0m 8ms/step - loss: 5.4348 - val_loss: 5.4073\n",
      "Epoch 33/50\n",
      "\u001b[1m185/185\u001b[0m \u001b[32m━━━━━━━━━━━━━━━━━━━━\u001b[0m\u001b[37m\u001b[0m \u001b[1m1s\u001b[0m 6ms/step - loss: 5.5005 - val_loss: 5.4069\n",
      "Epoch 34/50\n",
      "\u001b[1m185/185\u001b[0m \u001b[32m━━━━━━━━━━━━━━━━━━━━\u001b[0m\u001b[37m\u001b[0m \u001b[1m1s\u001b[0m 6ms/step - loss: 5.3646 - val_loss: 5.4070\n",
      "Epoch 35/50\n",
      "\u001b[1m185/185\u001b[0m \u001b[32m━━━━━━━━━━━━━━━━━━━━\u001b[0m\u001b[37m\u001b[0m \u001b[1m1s\u001b[0m 5ms/step - loss: 5.4066 - val_loss: 5.4073\n",
      "Epoch 36/50\n",
      "\u001b[1m185/185\u001b[0m \u001b[32m━━━━━━━━━━━━━━━━━━━━\u001b[0m\u001b[37m\u001b[0m \u001b[1m1s\u001b[0m 7ms/step - loss: 5.4693 - val_loss: 5.4063\n",
      "Epoch 37/50\n",
      "\u001b[1m185/185\u001b[0m \u001b[32m━━━━━━━━━━━━━━━━━━━━\u001b[0m\u001b[37m\u001b[0m \u001b[1m1s\u001b[0m 6ms/step - loss: 5.4676 - val_loss: 5.4062\n",
      "Epoch 38/50\n",
      "\u001b[1m185/185\u001b[0m \u001b[32m━━━━━━━━━━━━━━━━━━━━\u001b[0m\u001b[37m\u001b[0m \u001b[1m1s\u001b[0m 7ms/step - loss: 5.3505 - val_loss: 5.4062\n",
      "Epoch 39/50\n",
      "\u001b[1m185/185\u001b[0m \u001b[32m━━━━━━━━━━━━━━━━━━━━\u001b[0m\u001b[37m\u001b[0m \u001b[1m1s\u001b[0m 6ms/step - loss: 5.4245 - val_loss: 5.4056\n",
      "Epoch 40/50\n",
      "\u001b[1m185/185\u001b[0m \u001b[32m━━━━━━━━━━━━━━━━━━━━\u001b[0m\u001b[37m\u001b[0m \u001b[1m1s\u001b[0m 7ms/step - loss: 5.3810 - val_loss: 5.4061\n",
      "Epoch 41/50\n",
      "\u001b[1m185/185\u001b[0m \u001b[32m━━━━━━━━━━━━━━━━━━━━\u001b[0m\u001b[37m\u001b[0m \u001b[1m1s\u001b[0m 6ms/step - loss: 5.4444 - val_loss: 5.4057\n",
      "Epoch 42/50\n",
      "\u001b[1m185/185\u001b[0m \u001b[32m━━━━━━━━━━━━━━━━━━━━\u001b[0m\u001b[37m\u001b[0m \u001b[1m1s\u001b[0m 6ms/step - loss: 5.4063 - val_loss: 5.4055\n",
      "Epoch 43/50\n",
      "\u001b[1m185/185\u001b[0m \u001b[32m━━━━━━━━━━━━━━━━━━━━\u001b[0m\u001b[37m\u001b[0m \u001b[1m1s\u001b[0m 6ms/step - loss: 5.4177 - val_loss: 5.4052\n",
      "Epoch 44/50\n",
      "\u001b[1m185/185\u001b[0m \u001b[32m━━━━━━━━━━━━━━━━━━━━\u001b[0m\u001b[37m\u001b[0m \u001b[1m1s\u001b[0m 5ms/step - loss: 5.4246 - val_loss: 5.4048\n",
      "Epoch 45/50\n",
      "\u001b[1m185/185\u001b[0m \u001b[32m━━━━━━━━━━━━━━━━━━━━\u001b[0m\u001b[37m\u001b[0m \u001b[1m1s\u001b[0m 5ms/step - loss: 5.4360 - val_loss: 5.4049\n",
      "Epoch 46/50\n",
      "\u001b[1m185/185\u001b[0m \u001b[32m━━━━━━━━━━━━━━━━━━━━\u001b[0m\u001b[37m\u001b[0m \u001b[1m1s\u001b[0m 5ms/step - loss: 5.3803 - val_loss: 5.4048\n",
      "Epoch 47/50\n",
      "\u001b[1m185/185\u001b[0m \u001b[32m━━━━━━━━━━━━━━━━━━━━\u001b[0m\u001b[37m\u001b[0m \u001b[1m1s\u001b[0m 5ms/step - loss: 5.4127 - val_loss: 5.4044\n",
      "Epoch 48/50\n",
      "\u001b[1m185/185\u001b[0m \u001b[32m━━━━━━━━━━━━━━━━━━━━\u001b[0m\u001b[37m\u001b[0m \u001b[1m1s\u001b[0m 5ms/step - loss: 5.4805 - val_loss: 5.4042\n",
      "Epoch 49/50\n",
      "\u001b[1m185/185\u001b[0m \u001b[32m━━━━━━━━━━━━━━━━━━━━\u001b[0m\u001b[37m\u001b[0m \u001b[1m1s\u001b[0m 5ms/step - loss: 5.3960 - val_loss: 5.4043\n",
      "Epoch 50/50\n",
      "\u001b[1m185/185\u001b[0m \u001b[32m━━━━━━━━━━━━━━━━━━━━\u001b[0m\u001b[37m\u001b[0m \u001b[1m1s\u001b[0m 4ms/step - loss: 5.3954 - val_loss: 5.4044\n"
     ]
    },
    {
     "data": {
      "text/plain": [
       "<keras.src.callbacks.history.History at 0x1c4d8fbeff0>"
      ]
     },
     "execution_count": 81,
     "metadata": {},
     "output_type": "execute_result"
    }
   ],
   "source": [
    "# epochs: nombre de fois que le modèle va voir l'ensemble des données d'entraînement\n",
    "# batch_size: nombre de samples que le modèle va voir avant d'ajuster les poids\n",
    "# shuffle=True permet de mélanger les données d'entraînement pour garantir que le modèle ne mémorise pas l'ordre des données\n",
    "autoencoder.fit(train_data_matrix, train_data_matrix,\n",
    "                epochs=50,\n",
    "                batch_size=256,\n",
    "                shuffle=True,\n",
    "                validation_data=(test_data_matrix, test_data_matrix))"
   ]
  },
  {
   "cell_type": "markdown",
   "id": "7f61c78b-d8dd-4d99-9663-cd2be33bc030",
   "metadata": {},
   "source": [
    "## PARTIES 5"
   ]
  },
  {
   "cell_type": "markdown",
   "id": "40e8120e-04ae-48b4-8774-d4f915c36e2d",
   "metadata": {},
   "source": [
    "**5.\tÉvaluation du Modèle:**"
   ]
  },
  {
   "cell_type": "markdown",
   "id": "575b5197-e5e9-40b5-9e8a-03ddfa9804de",
   "metadata": {},
   "source": [
    "* Évaluer les performances de l'autoencodeur en calculant la perte sur les données de test."
   ]
  },
  {
   "cell_type": "code",
   "execution_count": 85,
   "id": "625d5974-9996-4351-91c4-3d7fc450fd2b",
   "metadata": {},
   "outputs": [
    {
     "name": "stdout",
     "output_type": "stream",
     "text": [
      "370/370 - 1s - 2ms/step - loss: 5.4044\n",
      "\n",
      "Test Loss: 5.404417037963867\n"
     ]
    }
   ],
   "source": [
    "loss = autoencoder.evaluate(test_data_matrix, test_data_matrix, verbose=2)\n",
    "print(f'\\nTest Loss: {loss}')\n"
   ]
  },
  {
   "cell_type": "markdown",
   "id": "71e4997d-f4d2-44cd-be9d-95de8b40f7a6",
   "metadata": {},
   "source": [
    "## PARTIES 6"
   ]
  },
  {
   "cell_type": "markdown",
   "id": "09359b35-1771-4438-8e26-ac28cd1bb0ad",
   "metadata": {},
   "source": [
    "**6.\tRésultats :**"
   ]
  },
  {
   "cell_type": "markdown",
   "id": "129c53a4-8d99-44b7-8dda-84bb577db447",
   "metadata": {},
   "source": [
    "* Utiliser l'encodeur pour transformer les données utilisateur-joke en représentations encodées. \r",
    "* \tImplémenter une fonction pour recommander desjokess non vus par un utilisateur, en se basant sur ces représentations encodées\r\n"
   ]
  },
  {
   "cell_type": "code",
   "execution_count": 89,
   "id": "c0dcf7e9-5675-47e2-a986-d84b14efa469",
   "metadata": {},
   "outputs": [
    {
     "name": "stdout",
     "output_type": "stream",
     "text": [
      "\u001b[1m370/370\u001b[0m \u001b[32m━━━━━━━━━━━━━━━━━━━━\u001b[0m\u001b[37m\u001b[0m \u001b[1m1s\u001b[0m 2ms/step\n"
     ]
    }
   ],
   "source": [
    "# Utiliser l'autoencodeur pour obtenir les représentations encodées des jokes\n",
    "encoded_jokes = autoencoder.predict(test_data_matrix)"
   ]
  },
  {
   "cell_type": "code",
   "execution_count": 90,
   "id": "3dcc79b6-58c6-46c6-a7a2-32d13ce1feee",
   "metadata": {},
   "outputs": [],
   "source": [
    "# Fonction de recommandation de blagues\n",
    "def recommend_jokes(user_id, encoded_jokes, user_joke_matrix, num_recommendations=5):\n",
    "    # Trouver l'index de l'utilisateur dans la matrice\n",
    "    user_index = user_joke_matrix.index.get_loc(user_id)\n",
    "    \n",
    "    # Obtenir les notes prédites pour cet utilisateur\n",
    "    user_ratings = encoded_jokes[user_index]\n",
    "    \n",
    "    # Trier les blagues par notes décroissantes\n",
    "    recommendations = np.argsort(user_ratings)[::-1]\n",
    "    \n",
    "    # Trouver les blagues non vus par l'utilisateur\n",
    "    unseen_jokes = user_joke_matrix.columns[user_joke_matrix.loc[user_id] == 0]\n",
    "    \n",
    "    # Recommander les blagues non vus avec les scores les plus élevés\n",
    "    recommended_jokes = unseen_jokes.intersection(recommendations)\n",
    "    return recommended_jokes[:num_recommendations]"
   ]
  },
  {
   "cell_type": "code",
   "execution_count": 91,
   "id": "f87968d4-3770-430c-94b3-3d93cd62816a",
   "metadata": {},
   "outputs": [
    {
     "name": "stdout",
     "output_type": "stream",
     "text": [
      "Recommended blagues for user 1: Index([28, 30, 33, 37, 38], dtype='int64', name='jokeId')\n"
     ]
    }
   ],
   "source": [
    "# Exemple de recommandation pour l'utilisateur 1\n",
    "recommended_jokes = recommend_jokes(1, encoded_jokes, user_joke_matrix)\n",
    "print(f\"Recommended blagues for user 1: {recommended_jokes}\")"
   ]
  },
  {
   "cell_type": "code",
   "execution_count": 92,
   "id": "48ba62d4-ddc1-43d0-95a0-6ef25c95da38",
   "metadata": {},
   "outputs": [
    {
     "data": {
      "text/html": [
       "<div>\n",
       "<style scoped>\n",
       "    .dataframe tbody tr th:only-of-type {\n",
       "        vertical-align: middle;\n",
       "    }\n",
       "\n",
       "    .dataframe tbody tr th {\n",
       "        vertical-align: top;\n",
       "    }\n",
       "\n",
       "    .dataframe thead th {\n",
       "        text-align: right;\n",
       "    }\n",
       "</style>\n",
       "<table border=\"1\" class=\"dataframe\">\n",
       "  <thead>\n",
       "    <tr style=\"text-align: right;\">\n",
       "      <th></th>\n",
       "      <th>jokeId</th>\n",
       "      <th>jokeText</th>\n",
       "    </tr>\n",
       "  </thead>\n",
       "  <tbody>\n",
       "    <tr>\n",
       "      <th>0</th>\n",
       "      <td>1</td>\n",
       "      <td>A man visits the doctor. The doctor says \"I ha...</td>\n",
       "    </tr>\n",
       "    <tr>\n",
       "      <th>1</th>\n",
       "      <td>2</td>\n",
       "      <td>This couple had an excellent relationship goin...</td>\n",
       "    </tr>\n",
       "    <tr>\n",
       "      <th>2</th>\n",
       "      <td>3</td>\n",
       "      <td>Q. What's 200 feet long and has 4 teeth? \\n\\nA...</td>\n",
       "    </tr>\n",
       "    <tr>\n",
       "      <th>3</th>\n",
       "      <td>4</td>\n",
       "      <td>Q. What's the difference between a man and a t...</td>\n",
       "    </tr>\n",
       "    <tr>\n",
       "      <th>4</th>\n",
       "      <td>5</td>\n",
       "      <td>Q.\\tWhat's O. J. Simpson's Internet address? \\...</td>\n",
       "    </tr>\n",
       "  </tbody>\n",
       "</table>\n",
       "</div>"
      ],
      "text/plain": [
       "   jokeId                                           jokeText\n",
       "0       1  A man visits the doctor. The doctor says \"I ha...\n",
       "1       2  This couple had an excellent relationship goin...\n",
       "2       3  Q. What's 200 feet long and has 4 teeth? \\n\\nA...\n",
       "3       4  Q. What's the difference between a man and a t...\n",
       "4       5  Q.\\tWhat's O. J. Simpson's Internet address? \\..."
      ]
     },
     "execution_count": 92,
     "metadata": {},
     "output_type": "execute_result"
    }
   ],
   "source": [
    "df_istem.head()"
   ]
  },
  {
   "cell_type": "code",
   "execution_count": 93,
   "id": "565cacdd-7486-499c-83ff-4ada407bd18b",
   "metadata": {},
   "outputs": [],
   "source": [
    "# Fonction pour récupérer le text des blagues à partir d'une liste d'IDs de blagues\n",
    "def get_joke_details(jokes_ids, df_istem):\n",
    "    details = df_istem[df_istem['jokeId'].isin(jokes_ids)][['jokeText']]\n",
    "    return details"
   ]
  },
  {
   "cell_type": "code",
   "execution_count": 94,
   "id": "a9af2a1b-8815-48a2-9c67-35cb074073e0",
   "metadata": {},
   "outputs": [
    {
     "name": "stdout",
     "output_type": "stream",
     "text": [
      "                                             jokeText\n",
      "27  A mechanical, electrical and a software engine...\n",
      "29  Q: What's the difference between a Lawyer and ...\n",
      "32  What do you call an American in the finals of ...\n",
      "36  A Jewish young man was seeing a psychiatrist f...\n",
      "37  \"May I take your order?\" the waiter asked. \\n\\...\n"
     ]
    }
   ],
   "source": [
    "# Exemple d'utilisation avec un tableau d'IDs de blagues\n",
    "joke_details = get_joke_details(recommended_jokes, df_istem)\n",
    "\n",
    "print(joke_details)"
   ]
  },
  {
   "cell_type": "code",
   "execution_count": null,
   "id": "9b663d83-d33b-45d8-8b61-3fecaf7bb1d5",
   "metadata": {},
   "outputs": [],
   "source": []
  }
 ],
 "metadata": {
  "kernelspec": {
   "display_name": "Python 3 (ipykernel)",
   "language": "python",
   "name": "python3"
  },
  "language_info": {
   "codemirror_mode": {
    "name": "ipython",
    "version": 3
   },
   "file_extension": ".py",
   "mimetype": "text/x-python",
   "name": "python",
   "nbconvert_exporter": "python",
   "pygments_lexer": "ipython3",
   "version": "3.12.4"
  }
 },
 "nbformat": 4,
 "nbformat_minor": 5
}
